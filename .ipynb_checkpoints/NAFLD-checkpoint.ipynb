{
 "cells": [
  {
   "cell_type": "markdown",
   "id": "ee29f12d",
   "metadata": {},
   "source": [
    "Setup and Imports"
   ]
  },
  {
   "cell_type": "code",
   "execution_count": 5,
   "id": "39b0f656",
   "metadata": {},
   "outputs": [],
   "source": [
    "# Efficient math and data management\n",
    "import numpy as np\n",
    "import pandas as pd\n",
    "\n",
    "# You may import useful modules and functions from the Python Standard Library.\n",
    "from dateutil.parser import isoparse  # Useful for parsing YYYYMMDD integers into date objects\n",
    "\n",
    "# You may import useful modules and functions from the Python Standard Library.\n",
    "import os\n",
    "from functools import reduce  \n",
    "\n",
    "# Visualization libraries\n",
    "import matplotlib\n",
    "import matplotlib.pyplot as plt\n",
    "import seaborn as sns\n",
    "\n",
    "# Inline figures. Can swap comments to use interactive figures. Use inline figures for assignment submission.\n",
    "%matplotlib inline\n",
    "# %matplotlib notebook\n",
    "\n",
    "# Set seaborn visual style\n",
    "sns.set()\n",
    "sns.set_context('talk')\n",
    "plt.rcParams[\"patch.force_edgecolor\"] = False  # Turn off histogram borders"
   ]
  },
  {
   "cell_type": "code",
   "execution_count": 6,
   "id": "0b160f03",
   "metadata": {},
   "outputs": [
    {
     "ename": "FileNotFoundError",
     "evalue": "[Errno 2] No such file or directory: 'NAFLD/Data/DEMO_J.XPT'",
     "output_type": "error",
     "traceback": [
      "\u001b[1;31m---------------------------------------------------------------------------\u001b[0m",
      "\u001b[1;31mFileNotFoundError\u001b[0m                         Traceback (most recent call last)",
      "Input \u001b[1;32mIn [6]\u001b[0m, in \u001b[0;36m<module>\u001b[1;34m\u001b[0m\n\u001b[1;32m----> 1\u001b[0m demographic_data \u001b[38;5;241m=\u001b[39m \u001b[43mpd\u001b[49m\u001b[38;5;241;43m.\u001b[39;49m\u001b[43mread_sas\u001b[49m\u001b[43m(\u001b[49m\u001b[38;5;124;43m'\u001b[39;49m\u001b[38;5;124;43mNAFLD/Data/DEMO_J.XPT\u001b[39;49m\u001b[38;5;124;43m'\u001b[39;49m\u001b[43m,\u001b[49m\u001b[43m \u001b[49m\u001b[38;5;28;43mformat\u001b[39;49m\u001b[38;5;241;43m=\u001b[39;49m\u001b[38;5;124;43m'\u001b[39;49m\u001b[38;5;124;43mxport\u001b[39;49m\u001b[38;5;124;43m'\u001b[39;49m\u001b[43m,\u001b[49m\u001b[43m \u001b[49m\u001b[43mencoding\u001b[49m\u001b[38;5;241;43m=\u001b[39;49m\u001b[38;5;124;43m'\u001b[39;49m\u001b[38;5;124;43mutf-8\u001b[39;49m\u001b[38;5;124;43m'\u001b[39;49m\u001b[43m)\u001b[49m\n\u001b[0;32m      2\u001b[0m alchohol_data \u001b[38;5;241m=\u001b[39m pd\u001b[38;5;241m.\u001b[39mread_sas(\u001b[38;5;124m'\u001b[39m\u001b[38;5;124mNAFLD/Data/ALQ_J.XPT\u001b[39m\u001b[38;5;124m'\u001b[39m, \u001b[38;5;28mformat\u001b[39m\u001b[38;5;241m=\u001b[39m\u001b[38;5;124m'\u001b[39m\u001b[38;5;124mxport\u001b[39m\u001b[38;5;124m'\u001b[39m, encoding\u001b[38;5;241m=\u001b[39m\u001b[38;5;124m'\u001b[39m\u001b[38;5;124mutf-8\u001b[39m\u001b[38;5;124m'\u001b[39m)\n\u001b[0;32m      3\u001b[0m liver_ultrasound_data \u001b[38;5;241m=\u001b[39m pd\u001b[38;5;241m.\u001b[39mread_sas(\u001b[38;5;124m'\u001b[39m\u001b[38;5;124mNAFLD/Data/LUX_J.XPT\u001b[39m\u001b[38;5;124m'\u001b[39m, \u001b[38;5;28mformat\u001b[39m\u001b[38;5;241m=\u001b[39m\u001b[38;5;124m'\u001b[39m\u001b[38;5;124mxport\u001b[39m\u001b[38;5;124m'\u001b[39m, encoding\u001b[38;5;241m=\u001b[39m\u001b[38;5;124m'\u001b[39m\u001b[38;5;124mutf-8\u001b[39m\u001b[38;5;124m'\u001b[39m)\n",
      "File \u001b[1;32mD:\\College\\2021-2022\\Spring-2022\\590\\Anaconda\\envs\\cs590w\\lib\\site-packages\\pandas\\io\\sas\\sasreader.py:136\u001b[0m, in \u001b[0;36mread_sas\u001b[1;34m(filepath_or_buffer, format, index, encoding, chunksize, iterator)\u001b[0m\n\u001b[0;32m    133\u001b[0m \u001b[38;5;28;01mif\u001b[39;00m \u001b[38;5;28mformat\u001b[39m\u001b[38;5;241m.\u001b[39mlower() \u001b[38;5;241m==\u001b[39m \u001b[38;5;124m\"\u001b[39m\u001b[38;5;124mxport\u001b[39m\u001b[38;5;124m\"\u001b[39m:\n\u001b[0;32m    134\u001b[0m     \u001b[38;5;28;01mfrom\u001b[39;00m \u001b[38;5;21;01mpandas\u001b[39;00m\u001b[38;5;21;01m.\u001b[39;00m\u001b[38;5;21;01mio\u001b[39;00m\u001b[38;5;21;01m.\u001b[39;00m\u001b[38;5;21;01msas\u001b[39;00m\u001b[38;5;21;01m.\u001b[39;00m\u001b[38;5;21;01msas_xport\u001b[39;00m \u001b[38;5;28;01mimport\u001b[39;00m XportReader\n\u001b[1;32m--> 136\u001b[0m     reader \u001b[38;5;241m=\u001b[39m \u001b[43mXportReader\u001b[49m\u001b[43m(\u001b[49m\n\u001b[0;32m    137\u001b[0m \u001b[43m        \u001b[49m\u001b[43mfilepath_or_buffer\u001b[49m\u001b[43m,\u001b[49m\n\u001b[0;32m    138\u001b[0m \u001b[43m        \u001b[49m\u001b[43mindex\u001b[49m\u001b[38;5;241;43m=\u001b[39;49m\u001b[43mindex\u001b[49m\u001b[43m,\u001b[49m\n\u001b[0;32m    139\u001b[0m \u001b[43m        \u001b[49m\u001b[43mencoding\u001b[49m\u001b[38;5;241;43m=\u001b[39;49m\u001b[43mencoding\u001b[49m\u001b[43m,\u001b[49m\n\u001b[0;32m    140\u001b[0m \u001b[43m        \u001b[49m\u001b[43mchunksize\u001b[49m\u001b[38;5;241;43m=\u001b[39;49m\u001b[43mchunksize\u001b[49m\u001b[43m,\u001b[49m\n\u001b[0;32m    141\u001b[0m \u001b[43m    \u001b[49m\u001b[43m)\u001b[49m\n\u001b[0;32m    142\u001b[0m \u001b[38;5;28;01melif\u001b[39;00m \u001b[38;5;28mformat\u001b[39m\u001b[38;5;241m.\u001b[39mlower() \u001b[38;5;241m==\u001b[39m \u001b[38;5;124m\"\u001b[39m\u001b[38;5;124msas7bdat\u001b[39m\u001b[38;5;124m\"\u001b[39m:\n\u001b[0;32m    143\u001b[0m     \u001b[38;5;28;01mfrom\u001b[39;00m \u001b[38;5;21;01mpandas\u001b[39;00m\u001b[38;5;21;01m.\u001b[39;00m\u001b[38;5;21;01mio\u001b[39;00m\u001b[38;5;21;01m.\u001b[39;00m\u001b[38;5;21;01msas\u001b[39;00m\u001b[38;5;21;01m.\u001b[39;00m\u001b[38;5;21;01msas7bdat\u001b[39;00m \u001b[38;5;28;01mimport\u001b[39;00m SAS7BDATReader\n",
      "File \u001b[1;32mD:\\College\\2021-2022\\Spring-2022\\590\\Anaconda\\envs\\cs590w\\lib\\site-packages\\pandas\\io\\sas\\sas_xport.py:265\u001b[0m, in \u001b[0;36mXportReader.__init__\u001b[1;34m(self, filepath_or_buffer, index, encoding, chunksize)\u001b[0m\n\u001b[0;32m    262\u001b[0m \u001b[38;5;28mself\u001b[39m\u001b[38;5;241m.\u001b[39m_index \u001b[38;5;241m=\u001b[39m index\n\u001b[0;32m    263\u001b[0m \u001b[38;5;28mself\u001b[39m\u001b[38;5;241m.\u001b[39m_chunksize \u001b[38;5;241m=\u001b[39m chunksize\n\u001b[1;32m--> 265\u001b[0m \u001b[38;5;28mself\u001b[39m\u001b[38;5;241m.\u001b[39mhandles \u001b[38;5;241m=\u001b[39m \u001b[43mget_handle\u001b[49m\u001b[43m(\u001b[49m\n\u001b[0;32m    266\u001b[0m \u001b[43m    \u001b[49m\u001b[43mfilepath_or_buffer\u001b[49m\u001b[43m,\u001b[49m\u001b[43m \u001b[49m\u001b[38;5;124;43m\"\u001b[39;49m\u001b[38;5;124;43mrb\u001b[39;49m\u001b[38;5;124;43m\"\u001b[39;49m\u001b[43m,\u001b[49m\u001b[43m \u001b[49m\u001b[43mencoding\u001b[49m\u001b[38;5;241;43m=\u001b[39;49m\u001b[43mencoding\u001b[49m\u001b[43m,\u001b[49m\u001b[43m \u001b[49m\u001b[43mis_text\u001b[49m\u001b[38;5;241;43m=\u001b[39;49m\u001b[38;5;28;43;01mFalse\u001b[39;49;00m\n\u001b[0;32m    267\u001b[0m \u001b[43m\u001b[49m\u001b[43m)\u001b[49m\n\u001b[0;32m    268\u001b[0m \u001b[38;5;28mself\u001b[39m\u001b[38;5;241m.\u001b[39mfilepath_or_buffer \u001b[38;5;241m=\u001b[39m \u001b[38;5;28mself\u001b[39m\u001b[38;5;241m.\u001b[39mhandles\u001b[38;5;241m.\u001b[39mhandle\n\u001b[0;32m    270\u001b[0m \u001b[38;5;28;01mtry\u001b[39;00m:\n",
      "File \u001b[1;32mD:\\College\\2021-2022\\Spring-2022\\590\\Anaconda\\envs\\cs590w\\lib\\site-packages\\pandas\\io\\common.py:798\u001b[0m, in \u001b[0;36mget_handle\u001b[1;34m(path_or_buf, mode, encoding, compression, memory_map, is_text, errors, storage_options)\u001b[0m\n\u001b[0;32m    789\u001b[0m         handle \u001b[38;5;241m=\u001b[39m \u001b[38;5;28mopen\u001b[39m(\n\u001b[0;32m    790\u001b[0m             handle,\n\u001b[0;32m    791\u001b[0m             ioargs\u001b[38;5;241m.\u001b[39mmode,\n\u001b[1;32m   (...)\u001b[0m\n\u001b[0;32m    794\u001b[0m             newline\u001b[38;5;241m=\u001b[39m\u001b[38;5;124m\"\u001b[39m\u001b[38;5;124m\"\u001b[39m,\n\u001b[0;32m    795\u001b[0m         )\n\u001b[0;32m    796\u001b[0m     \u001b[38;5;28;01melse\u001b[39;00m:\n\u001b[0;32m    797\u001b[0m         \u001b[38;5;66;03m# Binary mode\u001b[39;00m\n\u001b[1;32m--> 798\u001b[0m         handle \u001b[38;5;241m=\u001b[39m \u001b[38;5;28;43mopen\u001b[39;49m\u001b[43m(\u001b[49m\u001b[43mhandle\u001b[49m\u001b[43m,\u001b[49m\u001b[43m \u001b[49m\u001b[43mioargs\u001b[49m\u001b[38;5;241;43m.\u001b[39;49m\u001b[43mmode\u001b[49m\u001b[43m)\u001b[49m\n\u001b[0;32m    799\u001b[0m     handles\u001b[38;5;241m.\u001b[39mappend(handle)\n\u001b[0;32m    801\u001b[0m \u001b[38;5;66;03m# Convert BytesIO or file objects passed with an encoding\u001b[39;00m\n",
      "\u001b[1;31mFileNotFoundError\u001b[0m: [Errno 2] No such file or directory: 'NAFLD/Data/DEMO_J.XPT'"
     ]
    }
   ],
   "source": [
    "demographic_data = pd.read_sas('Data/DEMO_J.XPT', format='xport', encoding='utf-8')\n",
    "alchohol_data = pd.read_sas('Data/ALQ_J.XPT', format='xport', encoding='utf-8')\n",
    "liver_ultrasound_data = pd.read_sas('Data/LUX_J.XPT', format='xport', encoding='utf-8')\n",
    "hepatitis_data = pd.read_sas('Data/HEQ_J.XPT', format='xport', encoding='utf-8')\n",
    "#GGT (LBXSGTSI)\n",
    "biochemistry_data = pd.read_sas('Data/BIOPRO_J.XPT', format='xport', encoding='utf-8')\n",
    "#waist circumference (BMXWAIST)\n",
    "body_measure_data = pd.read_sas('Data/BMX_J.XPT', format='xport', encoding='utf-8')\n",
    "#fasting glucose (LBXGLU),\n",
    "fasting_glucose_data = pd.read_sas('Data/GLU_J.XPT', format='xport', encoding='utf-8')\n",
    "#and insulin (LBXIN).\n",
    "insulin_data = pd.read_sas('Data/INS_J.XPT', format='xport', encoding='utf-8')\n",
    "#HDL cholesterol (mg/dL)(LBDHDD),HDL_J)\n",
    "cholesterol_data = pd.read_sas('Data/HDL_J.XPT', format='xport', encoding='utf-8'),\n",
    "#HbA1c levels (≥ 8%) indicating uncontrolled diabetes (LBXGH)\n",
    "diabetes_data = pd.read_sas('Data/GHB_J.XPT', format='xport', encoding='utf-8')\n",
    "#Physical Activity (P_PAQ), nutritional data (P_DBQ) this one is hard idk what to consider\n",
    "\n",
    "#ALQ130 in ALQ_J\n",
    "#LUXSMED and LUXSCAP in LUX_J\n",
    "#RIAGENDR, RIDRETH3, income (INDFMPIR) in DEMO_J\n",
    "#hepatitis for HEQ010 and HEQ030 for Hepatitis B and C\n",
    "#GGT (LBXSGTSI), #Albumin (LBDSALSI) in biochemistry \n",
    "#, waist circumference (BMXWAIST)), #BMI (BMXBMI) in body measures\n",
    "# fasting glucose (LBXGLU), and insulin (LBXIN).\n",
    "#HDL cholesterol (mg/dL)(LBDHDD),\n",
    "#Albumin (LBDSALSI),\n",
    "#HbA1c levels (≥ 8%) indicating uncontrolled diabetes (LBXGH)\n",
    "#BMI (BMXBMI), income (INDFMPIR)\n",
    "#these ones harder: Physical Activity (P_PAQ) and nutritional data (P_DBQ)"
   ]
  },
  {
   "cell_type": "code",
   "execution_count": null,
   "id": "5b7dccaa",
   "metadata": {},
   "outputs": [],
   "source": [
    "print(demographic_data.head(2))\n",
    "# RIDAGEYR= age in years\n",
    "subsetData = demographic_data[demographic_data[\"RIDAGEYR\"] >=18.0]\n",
    "print(len(demographic_data))\n",
    "print(len(subsetData))\n",
    "\n"
   ]
  },
  {
   "cell_type": "code",
   "execution_count": null,
   "id": "17eb9952",
   "metadata": {},
   "outputs": [],
   "source": []
  }
 ],
 "metadata": {
  "kernelspec": {
   "display_name": "Python 3 (ipykernel)",
   "language": "python",
   "name": "python3"
  },
  "language_info": {
   "codemirror_mode": {
    "name": "ipython",
    "version": 3
   },
   "file_extension": ".py",
   "mimetype": "text/x-python",
   "name": "python",
   "nbconvert_exporter": "python",
   "pygments_lexer": "ipython3",
   "version": "3.9.10"
  }
 },
 "nbformat": 4,
 "nbformat_minor": 5
}
