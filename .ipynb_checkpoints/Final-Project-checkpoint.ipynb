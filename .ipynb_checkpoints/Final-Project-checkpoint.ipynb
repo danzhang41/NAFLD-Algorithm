{
 "cells": [
  {
   "cell_type": "code",
   "execution_count": 1,
   "id": "42325955-a526-4160-8e8a-80a6a5c4f4b7",
   "metadata": {},
   "outputs": [],
   "source": [
    "import numpy as np\n",
    "import pandas as pd\n"
   ]
  },
  {
   "cell_type": "code",
   "execution_count": 2,
   "id": "d76fbf81-f0ce-40c1-a826-4cea046e86be",
   "metadata": {},
   "outputs": [],
   "source": [
    "def loadData():\n",
    "    data = pd.read_csv('NHANES_combined.csv.gz', header=0, compression='gzip', low_memory=False, engine='c')\n",
    "    return data"
   ]
  },
  {
   "cell_type": "code",
   "execution_count": 3,
   "id": "4579f76b-6291-4bea-aadc-da501d51bafc",
   "metadata": {},
   "outputs": [],
   "source": [
    "def processData():\n",
    "    pass"
   ]
  },
  {
   "cell_type": "code",
   "execution_count": 4,
   "id": "57261b17-7cbd-4a33-adca-a1860d98408c",
   "metadata": {},
   "outputs": [],
   "source": [
    "def goldStandard(data):\n",
    "    goldStandard = data[['LUXCAPM', 'LUXSMED', 'HEQ010', 'HEQ030', 'ALQ130', 'DMDHRGND']].dropna()\n",
    "    goldStandard = goldStandard[(goldStandard.HEQ010 != 7) & (goldStandard.HEQ010 != 9)] #drop empty values\n",
    "    goldStandard = goldStandard[(goldStandard.HEQ030 != 7) & (goldStandard.HEQ030 != 9)]\n",
    "    goldStandard = goldStandard[(goldStandard.ALQ130 != 777) & (goldStandard.ALQ130 != 999)]\n",
    "   \n",
    "    def hasNAFLD(x):\n",
    "        if ((x.LUXCAPM > 250) and \n",
    "            (x.LUXSMED > 7) and \n",
    "            (x.HEQ010 == 2) and\n",
    "            (x.HEQ030 == 2) and \n",
    "            (((x.DMDHRGND == 1) and (x.ALQ130 <= 2)) or ((x.DMDHRGND == 2) and (x.ALQ130 <= 1)))):\n",
    "            return True\n",
    "        else:\n",
    "            return False\n",
    "    data['NAFLD'] = goldStandard.apply(hasNAFLD, axis = 1)\n",
    "    \n",
    "    return data['NAFLD']"
   ]
  },
  {
   "cell_type": "code",
   "execution_count": 5,
   "id": "32a61c88-c60c-4ed4-b550-92b4a8656551",
   "metadata": {},
   "outputs": [
    {
     "name": "stdout",
     "output_type": "stream",
     "text": [
      "          SEQN  ALQ111  ALQ121  ALQ130        ALQ142  ALQ270  ALQ280  ALQ290  \\\n",
      "0      93705.0     1.0     7.0     1.0  5.397605e-79     NaN     NaN     NaN   \n",
      "1      93706.0     2.0     NaN     NaN           NaN     NaN     NaN     NaN   \n",
      "2      93708.0     2.0     NaN     NaN           NaN     NaN     NaN     NaN   \n",
      "3      93709.0     NaN     NaN     NaN           NaN     NaN     NaN     NaN   \n",
      "4      93711.0     1.0     5.0     1.0  5.397605e-79     NaN     NaN     NaN   \n",
      "...        ...     ...     ...     ...           ...     ...     ...     ...   \n",
      "9249  102902.0     NaN     NaN     NaN           NaN     NaN     NaN     NaN   \n",
      "9250  102928.0     NaN     NaN     NaN           NaN     NaN     NaN     NaN   \n",
      "9251  102931.0     NaN     NaN     NaN           NaN     NaN     NaN     NaN   \n",
      "9252  102940.0     NaN     NaN     NaN           NaN     NaN     NaN     NaN   \n",
      "9253  102950.0     NaN     NaN     NaN           NaN     NaN     NaN     NaN   \n",
      "\n",
      "      ALQ151        ALQ170  ...  LUXCPIQR      WTSAF2YR  LBXTR  LBDTRSI  \\\n",
      "0        2.0  5.000000e+00  ...      28.0           NaN    NaN      NaN   \n",
      "1        NaN           NaN  ...      19.0           NaN    NaN      NaN   \n",
      "2        NaN           NaN  ...      75.0  25653.677102   58.0    0.655   \n",
      "3        NaN           NaN  ...      41.0           NaN    NaN      NaN   \n",
      "4        2.0  5.397605e-79  ...      33.0  29226.045506   48.0    0.542   \n",
      "...      ...           ...  ...       ...           ...    ...      ...   \n",
      "9249     NaN           NaN  ...       NaN           NaN    NaN      NaN   \n",
      "9250     NaN           NaN  ...       NaN           NaN    NaN      NaN   \n",
      "9251     NaN           NaN  ...       NaN           NaN    NaN      NaN   \n",
      "9252     NaN           NaN  ...       NaN           NaN    NaN      NaN   \n",
      "9253     NaN           NaN  ...       NaN           NaN    NaN      NaN   \n",
      "\n",
      "      LBDLDL  LBDLDLSI  LBDLDLM  LBDLDMSI  LBDLDLN  LBDLDNSI  \n",
      "0        NaN       NaN      NaN       NaN      NaN       NaN  \n",
      "1        NaN       NaN      NaN       NaN      NaN       NaN  \n",
      "2      109.0     2.819    107.0     2.767    111.0     2.870  \n",
      "3        NaN       NaN      NaN       NaN      NaN       NaN  \n",
      "4      156.0     4.034    152.0     3.931    158.0     4.086  \n",
      "...      ...       ...      ...       ...      ...       ...  \n",
      "9249     NaN       NaN      NaN       NaN      NaN       NaN  \n",
      "9250     NaN       NaN      NaN       NaN      NaN       NaN  \n",
      "9251     NaN       NaN      NaN       NaN      NaN       NaN  \n",
      "9252     NaN       NaN      NaN       NaN      NaN       NaN  \n",
      "9253     NaN       NaN      NaN       NaN      NaN       NaN  \n",
      "\n",
      "[9254 rows x 197 columns]\n"
     ]
    }
   ],
   "source": [
    "data = loadData()\n",
    "print(data)"
   ]
  }
 ],
 "metadata": {
  "kernelspec": {
   "display_name": "Python 3 (ipykernel)",
   "language": "python",
   "name": "python3"
  },
  "language_info": {
   "codemirror_mode": {
    "name": "ipython",
    "version": 3
   },
   "file_extension": ".py",
   "mimetype": "text/x-python",
   "name": "python",
   "nbconvert_exporter": "python",
   "pygments_lexer": "ipython3",
   "version": "3.9.10"
  }
 },
 "nbformat": 4,
 "nbformat_minor": 5
}
