{
 "cells": [
  {
   "cell_type": "code",
   "execution_count": 8,
   "id": "da1a4723-9916-4e9d-a384-7438453fdd6d",
   "metadata": {},
   "outputs": [],
   "source": [
    "import numpy as np\n",
    "import pandas as pd"
   ]
  },
  {
   "cell_type": "code",
   "execution_count": 9,
   "id": "85b1c4db-1896-44cc-9be4-7f64230f3583",
   "metadata": {},
   "outputs": [],
   "source": [
    "goldStandardVar = ['LUXCAPM', 'LUXSMED', 'HEQ010', 'HEQ030', 'ALQ130', 'RIAGENDER']\n",
    "competeAlgVar = ['RIDRETH3', 'LBXSGTSI', 'BMXWAIST', 'LBXGLU', 'LBXIN'] \n",
    "ourAlgVar = ['LBDHDD', 'LBDSALSI', 'LBXGH', 'BMI', 'INDFMPIR', 'P_PAQ', 'P_DBQ']"
   ]
  },
  {
   "cell_type": "code",
   "execution_count": 10,
   "id": "d76fbf81-f0ce-40c1-a826-4cea046e86be",
   "metadata": {},
   "outputs": [],
   "source": [
    "def loadData():\n",
    "    data = pd.read_csv('NHANES_combined.csv.gz', header=0, compression='gzip', low_memory=False, engine='c')\n",
    "    return data"
   ]
  },
  {
   "cell_type": "code",
   "execution_count": 11,
   "id": "4579f76b-6291-4bea-aadc-da501d51bafc",
   "metadata": {},
   "outputs": [],
   "source": [
    "def processData(data):\n",
    "    #only include patients that we can create labels for\n",
    "    column_names = goldStandardVar + competeAlgVar + ourAlgVar\n",
    "    data = data[column_names].dropna()\n",
    "    data = data[(data.HEQ010 != 7) & (data.HEQ010 != 9)] #drop empty values\n",
    "    data = data[(data.HEQ030 != 7) & (data.HEQ030 != 9)]\n",
    "    data = data[(data.ALQ130 != 777) & (data.ALQ130 != 999)]\n",
    "    \n",
    "    return data"
   ]
  },
  {
   "cell_type": "code",
   "execution_count": 12,
   "id": "57261b17-7cbd-4a33-adca-a1860d98408c",
   "metadata": {},
   "outputs": [],
   "source": [
    "def goldStandard(data):\n",
    "    goldStandard = data[['LUXCAPM', 'LUXSMED', 'HEQ010', 'HEQ030', 'ALQ130', 'DMDHRGND']].dropna()\n",
    "    goldStandard = goldStandard[(goldStandard.HEQ010 != 7) & (goldStandard.HEQ010 != 9)] #drop empty values\n",
    "    goldStandard = goldStandard[(goldStandard.HEQ030 != 7) & (goldStandard.HEQ030 != 9)]\n",
    "    goldStandard = goldStandard[(goldStandard.ALQ130 != 777) & (goldStandard.ALQ130 != 999)]\n",
    "   \n",
    "    def hasNAFLD(x):\n",
    "        if ((x.LUXCAPM > 250) and \n",
    "            (x.LUXSMED > 7) and \n",
    "            (x.HEQ010 == 2) and\n",
    "            (x.HEQ030 == 2) and \n",
    "            (((x.DMDHRGND == 1) and (x.ALQ130 <= 2)) or ((x.DMDHRGND == 2) and (x.ALQ130 <= 1)))):\n",
    "            return True\n",
    "        else:\n",
    "            return False\n",
    "    data['NAFLD'] = goldStandard.apply(hasNAFLD, axis = 1)\n",
    "    \n",
    "    return data['NAFLD'] ##need to fix this tbh"
   ]
  },
  {
   "cell_type": "code",
   "execution_count": 13,
   "id": "32a61c88-c60c-4ed4-b550-92b4a8656551",
   "metadata": {},
   "outputs": [
    {
     "ename": "KeyError",
     "evalue": "\"['RIAGENDER', 'LBXGLU', 'LBXIN', 'BMI', 'P_PAQ', 'P_DBQ'] not in index\"",
     "output_type": "error",
     "traceback": [
      "\u001b[1;31m---------------------------------------------------------------------------\u001b[0m",
      "\u001b[1;31mKeyError\u001b[0m                                  Traceback (most recent call last)",
      "Input \u001b[1;32mIn [13]\u001b[0m, in \u001b[0;36m<module>\u001b[1;34m\u001b[0m\n\u001b[0;32m      1\u001b[0m data \u001b[38;5;241m=\u001b[39m loadData()\n\u001b[1;32m----> 2\u001b[0m data \u001b[38;5;241m=\u001b[39m \u001b[43mprocessData\u001b[49m\u001b[43m(\u001b[49m\u001b[43mdata\u001b[49m\u001b[43m)\u001b[49m\n\u001b[0;32m      3\u001b[0m \u001b[38;5;28mprint\u001b[39m(data)\n",
      "Input \u001b[1;32mIn [11]\u001b[0m, in \u001b[0;36mprocessData\u001b[1;34m(data)\u001b[0m\n\u001b[0;32m      1\u001b[0m \u001b[38;5;28;01mdef\u001b[39;00m \u001b[38;5;21mprocessData\u001b[39m(data):\n\u001b[0;32m      2\u001b[0m     \u001b[38;5;66;03m#only include patients that we can create labels for\u001b[39;00m\n\u001b[0;32m      3\u001b[0m     column_names \u001b[38;5;241m=\u001b[39m goldStandardVar \u001b[38;5;241m+\u001b[39m competeAlgVar \u001b[38;5;241m+\u001b[39m ourAlgVar\n\u001b[1;32m----> 4\u001b[0m     data \u001b[38;5;241m=\u001b[39m \u001b[43mdata\u001b[49m\u001b[43m[\u001b[49m\u001b[43mcolumn_names\u001b[49m\u001b[43m]\u001b[49m\u001b[38;5;241m.\u001b[39mdropna()\n\u001b[0;32m      5\u001b[0m     data \u001b[38;5;241m=\u001b[39m data[(data\u001b[38;5;241m.\u001b[39mHEQ010 \u001b[38;5;241m!=\u001b[39m \u001b[38;5;241m7\u001b[39m) \u001b[38;5;241m&\u001b[39m (data\u001b[38;5;241m.\u001b[39mHEQ010 \u001b[38;5;241m!=\u001b[39m \u001b[38;5;241m9\u001b[39m)] \u001b[38;5;66;03m#drop empty values\u001b[39;00m\n\u001b[0;32m      6\u001b[0m     data \u001b[38;5;241m=\u001b[39m data[(data\u001b[38;5;241m.\u001b[39mHEQ030 \u001b[38;5;241m!=\u001b[39m \u001b[38;5;241m7\u001b[39m) \u001b[38;5;241m&\u001b[39m (data\u001b[38;5;241m.\u001b[39mHEQ030 \u001b[38;5;241m!=\u001b[39m \u001b[38;5;241m9\u001b[39m)]\n",
      "File \u001b[1;32mD:\\College\\2021-2022\\Spring-2022\\590\\Anaconda\\envs\\cs590w\\lib\\site-packages\\pandas\\core\\frame.py:3512\u001b[0m, in \u001b[0;36mDataFrame.__getitem__\u001b[1;34m(self, key)\u001b[0m\n\u001b[0;32m   3510\u001b[0m     \u001b[38;5;28;01mif\u001b[39;00m is_iterator(key):\n\u001b[0;32m   3511\u001b[0m         key \u001b[38;5;241m=\u001b[39m \u001b[38;5;28mlist\u001b[39m(key)\n\u001b[1;32m-> 3512\u001b[0m     indexer \u001b[38;5;241m=\u001b[39m \u001b[38;5;28;43mself\u001b[39;49m\u001b[38;5;241;43m.\u001b[39;49m\u001b[43mcolumns\u001b[49m\u001b[38;5;241;43m.\u001b[39;49m\u001b[43m_get_indexer_strict\u001b[49m\u001b[43m(\u001b[49m\u001b[43mkey\u001b[49m\u001b[43m,\u001b[49m\u001b[43m \u001b[49m\u001b[38;5;124;43m\"\u001b[39;49m\u001b[38;5;124;43mcolumns\u001b[39;49m\u001b[38;5;124;43m\"\u001b[39;49m\u001b[43m)\u001b[49m[\u001b[38;5;241m1\u001b[39m]\n\u001b[0;32m   3514\u001b[0m \u001b[38;5;66;03m# take() does not accept boolean indexers\u001b[39;00m\n\u001b[0;32m   3515\u001b[0m \u001b[38;5;28;01mif\u001b[39;00m \u001b[38;5;28mgetattr\u001b[39m(indexer, \u001b[38;5;124m\"\u001b[39m\u001b[38;5;124mdtype\u001b[39m\u001b[38;5;124m\"\u001b[39m, \u001b[38;5;28;01mNone\u001b[39;00m) \u001b[38;5;241m==\u001b[39m \u001b[38;5;28mbool\u001b[39m:\n",
      "File \u001b[1;32mD:\\College\\2021-2022\\Spring-2022\\590\\Anaconda\\envs\\cs590w\\lib\\site-packages\\pandas\\core\\indexes\\base.py:5782\u001b[0m, in \u001b[0;36mIndex._get_indexer_strict\u001b[1;34m(self, key, axis_name)\u001b[0m\n\u001b[0;32m   5779\u001b[0m \u001b[38;5;28;01melse\u001b[39;00m:\n\u001b[0;32m   5780\u001b[0m     keyarr, indexer, new_indexer \u001b[38;5;241m=\u001b[39m \u001b[38;5;28mself\u001b[39m\u001b[38;5;241m.\u001b[39m_reindex_non_unique(keyarr)\n\u001b[1;32m-> 5782\u001b[0m \u001b[38;5;28;43mself\u001b[39;49m\u001b[38;5;241;43m.\u001b[39;49m\u001b[43m_raise_if_missing\u001b[49m\u001b[43m(\u001b[49m\u001b[43mkeyarr\u001b[49m\u001b[43m,\u001b[49m\u001b[43m \u001b[49m\u001b[43mindexer\u001b[49m\u001b[43m,\u001b[49m\u001b[43m \u001b[49m\u001b[43maxis_name\u001b[49m\u001b[43m)\u001b[49m\n\u001b[0;32m   5784\u001b[0m keyarr \u001b[38;5;241m=\u001b[39m \u001b[38;5;28mself\u001b[39m\u001b[38;5;241m.\u001b[39mtake(indexer)\n\u001b[0;32m   5785\u001b[0m \u001b[38;5;28;01mif\u001b[39;00m \u001b[38;5;28misinstance\u001b[39m(key, Index):\n\u001b[0;32m   5786\u001b[0m     \u001b[38;5;66;03m# GH 42790 - Preserve name from an Index\u001b[39;00m\n",
      "File \u001b[1;32mD:\\College\\2021-2022\\Spring-2022\\590\\Anaconda\\envs\\cs590w\\lib\\site-packages\\pandas\\core\\indexes\\base.py:5845\u001b[0m, in \u001b[0;36mIndex._raise_if_missing\u001b[1;34m(self, key, indexer, axis_name)\u001b[0m\n\u001b[0;32m   5842\u001b[0m     \u001b[38;5;28;01mraise\u001b[39;00m \u001b[38;5;167;01mKeyError\u001b[39;00m(\u001b[38;5;124mf\u001b[39m\u001b[38;5;124m\"\u001b[39m\u001b[38;5;124mNone of [\u001b[39m\u001b[38;5;132;01m{\u001b[39;00mkey\u001b[38;5;132;01m}\u001b[39;00m\u001b[38;5;124m] are in the [\u001b[39m\u001b[38;5;132;01m{\u001b[39;00maxis_name\u001b[38;5;132;01m}\u001b[39;00m\u001b[38;5;124m]\u001b[39m\u001b[38;5;124m\"\u001b[39m)\n\u001b[0;32m   5844\u001b[0m not_found \u001b[38;5;241m=\u001b[39m \u001b[38;5;28mlist\u001b[39m(ensure_index(key)[missing_mask\u001b[38;5;241m.\u001b[39mnonzero()[\u001b[38;5;241m0\u001b[39m]]\u001b[38;5;241m.\u001b[39munique())\n\u001b[1;32m-> 5845\u001b[0m \u001b[38;5;28;01mraise\u001b[39;00m \u001b[38;5;167;01mKeyError\u001b[39;00m(\u001b[38;5;124mf\u001b[39m\u001b[38;5;124m\"\u001b[39m\u001b[38;5;132;01m{\u001b[39;00mnot_found\u001b[38;5;132;01m}\u001b[39;00m\u001b[38;5;124m not in index\u001b[39m\u001b[38;5;124m\"\u001b[39m)\n",
      "\u001b[1;31mKeyError\u001b[0m: \"['RIAGENDER', 'LBXGLU', 'LBXIN', 'BMI', 'P_PAQ', 'P_DBQ'] not in index\""
     ]
    }
   ],
   "source": [
    "data = loadData()\n",
    "data = processData(data)\n",
    "print(data)"
   ]
  },
  {
   "cell_type": "code",
   "execution_count": null,
   "id": "8cf50d68-8ebb-46bd-87da-2340d03c088c",
   "metadata": {},
   "outputs": [],
   "source": []
  }
 ],
 "metadata": {
  "kernelspec": {
   "display_name": "Python 3 (ipykernel)",
   "language": "python",
   "name": "python3"
  },
  "language_info": {
   "codemirror_mode": {
    "name": "ipython",
    "version": 3
   },
   "file_extension": ".py",
   "mimetype": "text/x-python",
   "name": "python",
   "nbconvert_exporter": "python",
   "pygments_lexer": "ipython3",
   "version": "3.9.10"
  }
 },
 "nbformat": 4,
 "nbformat_minor": 5
}
