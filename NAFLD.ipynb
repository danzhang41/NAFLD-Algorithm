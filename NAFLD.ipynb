{
 "cells": [
  {
   "cell_type": "markdown",
   "id": "ee29f12d",
   "metadata": {},
   "source": [
    "Setup and Imports"
   ]
  },
  {
   "cell_type": "code",
   "execution_count": 128,
   "id": "39b0f656",
   "metadata": {},
   "outputs": [],
   "source": [
    "# Efficient math and data management\n",
    "import numpy as np\n",
    "import pandas as pd"
   ]
  },
  {
   "cell_type": "code",
   "execution_count": 129,
   "id": "d493a054-770b-41f9-b179-966ae5b0af94",
   "metadata": {},
   "outputs": [],
   "source": [
    "demographic_data = pd.read_sas('Data/DEMO_J.XPT', format='xport', encoding='utf-8')\n",
    "alcohol_data = pd.read_sas('Data/ALQ_J.XPT', format='xport', encoding='utf-8')\n",
    "liver_ultrasound_data = pd.read_sas('Data/LUX_J.XPT', format='xport', encoding='utf-8')\n",
    "hepatitis_data = pd.read_sas('Data/HEQ_J.XPT', format='xport', encoding='utf-8')\n",
    "#GGT (LBXSGTSI)\n",
    "biochemistry_data = pd.read_sas('Data/BIOPRO_J.XPT', format='xport', encoding='utf-8')\n",
    "#waist circumference (BMXWAIST)\n",
    "body_measure_data = pd.read_sas('Data/BMX_J.XPT', format='xport', encoding='utf-8')\n",
    "#fasting glucose (LBXGLU),\n",
    "fasting_glucose_data = pd.read_sas('Data/GLU_J.XPT', format='xport', encoding='utf-8')\n",
    "#and insulin (LBXIN).\n",
    "insulin_data = pd.read_sas('Data/INS_J.XPT', format='xport', encoding='utf-8')\n",
    "#HDL cholesterol (mg/dL)(LBDHDD),HDL_J)\n",
    "cholesterol_data = pd.read_sas('Data/HDL_J.XPT', format='xport', encoding='utf-8')\n",
    "#HbA1c levels (≥ 8%) indicating uncontrolled diabetes (LBXGH)\n",
    "diabetes_data = pd.read_sas('Data/GHB_J.XPT', format='xport', encoding='utf-8')\n",
    "#Physical Activity (P_PAQ), nutritional data (P_DBQ) this one is hard idk what to consider\n",
    "\n",
    "#ALQ130 in ALQ_J\n",
    "#LUXSMED and LUXSCAP in LUX_J\n",
    "#RIAGENDR, RIDRETH3, income (INDFMPIR) in DEMO_J\n",
    "#hepatitis for HEQ010 and HEQ030 for Hepatitis B and C\n",
    "#GGT (LBXSGTSI), #Albumin (LBDSALSI) in biochemistry \n",
    "#, waist circumference (BMXWAIST)), #BMI (BMXBMI) in body measures\n",
    "# fasting glucose (LBXGLU), and insulin (LBXIN).\n",
    "#HDL cholesterol (mg/dL)(LBDHDD),\n",
    "#Albumin (LBDSALSI),\n",
    "#HbA1c levels (≥ 8%) indicating uncontrolled diabetes (LBXGH)\n",
    "#BMI (BMXBMI), income (INDFMPIR)\n",
    "#these ones harder: Physical Activity (P_PAQ) and nutritional data (P_DBQ)"
   ]
  },
  {
   "cell_type": "code",
   "execution_count": 130,
   "id": "b5445e93-186a-4fb2-8834-e2e5584d4dc8",
   "metadata": {},
   "outputs": [],
   "source": [
    "goldStandardVar = ['LUXCAPM', 'LUXSMED', 'HEQ010', 'HEQ030', 'ALQ130', 'RIAGENDER']\n",
    "competeAlgVar = ['RIDRETH3', 'LBXSGTSI', 'BMXWAIST', 'LBXGLU', 'LBXIN'] \n",
    "ourAlgVar = ['LBDHDD', 'LBDSALSI', 'LBXGH', 'BMI', 'INDFMPIR', 'P_PAQ', 'P_DBQ']"
   ]
  },
  {
   "cell_type": "code",
   "execution_count": 131,
   "id": "4e968c68-822a-4150-ba97-acc91aba2bd3",
   "metadata": {},
   "outputs": [],
   "source": [
    "def mergeData():\n",
    "    all_data = [demographic_data, alcohol_data, liver_ultrasound_data, hepatitis_data, biochemistry_data, \n",
    "                body_measure_data, fasting_glucose_data, insulin_data, cholesterol_data, diabetes_data]\n",
    "\n",
    "    mergedData = demographic_data\n",
    "    for i in all_data:\n",
    "        mergedData = mergedData.merge(i, on = 'SEQN', how = 'outer')\n",
    "    return mergedData"
   ]
  },
  {
   "cell_type": "code",
   "execution_count": 132,
   "id": "02260a2a-89ea-48f0-8bb7-3f6fec9d5b24",
   "metadata": {},
   "outputs": [],
   "source": [
    "def processData(data):\n",
    "    #only include patients that we can create labels for\n",
    "    column_names = goldStandardVar + competeAlgVar + ourAlgVar\n",
    "    data = data[column_names].dropna()\n",
    "    data = data[(data.HEQ010 != 7) & (data.HEQ010 != 9)] #drop empty values\n",
    "    data = data[(data.HEQ030 != 7) & (data.HEQ030 != 9)]\n",
    "    data = data[(data.ALQ130 != 777) & (data.ALQ130 != 999)]\n",
    "    \n",
    "    return data"
   ]
  },
  {
   "cell_type": "code",
   "execution_count": 133,
   "id": "ca037d70-abcd-49c7-a425-09bd654b0fb8",
   "metadata": {},
   "outputs": [],
   "source": [
    "def main():\n",
    "    mergedData = mergeData()\n",
    "    print(mergedData)"
   ]
  },
  {
   "cell_type": "code",
   "execution_count": 134,
   "id": "6a87fd32-12a3-47a9-b1ac-f4aa0fb327eb",
   "metadata": {},
   "outputs": [],
   "source": [
    "def test(): #use this one when you want to test stuff\n",
    "    print(demographic_data.head(10))\n",
    "    RIDAGEYR= age in years\n",
    "    subsetData = demographic_data[demographic_data[\"RIDAGEYR\"] >=18.0]\n",
    "    print(len(demographic_data))\n",
    "    print(len(subsetData))\n",
    "\n",
    "    print(mergeData().head(10))"
   ]
  },
  {
   "cell_type": "code",
   "execution_count": 135,
   "id": "11adbec2-e0ab-430f-8197-6968920d126a",
   "metadata": {},
   "outputs": [
    {
     "name": "stdout",
     "output_type": "stream",
     "text": [
      "          SEQN  SDDSRVYR_x  RIDSTATR_x  RIAGENDR_x  RIDAGEYR_x  RIDAGEMN_x  \\\n",
      "0      93703.0        10.0         2.0         2.0         2.0         NaN   \n",
      "1      93704.0        10.0         2.0         1.0         2.0         NaN   \n",
      "2      93705.0        10.0         2.0         2.0        66.0         NaN   \n",
      "3      93706.0        10.0         2.0         1.0        18.0         NaN   \n",
      "4      93707.0        10.0         2.0         1.0        13.0         NaN   \n",
      "...        ...         ...         ...         ...         ...         ...   \n",
      "9249  102952.0        10.0         2.0         2.0        70.0         NaN   \n",
      "9250  102953.0        10.0         2.0         1.0        42.0         NaN   \n",
      "9251  102954.0        10.0         2.0         2.0        41.0         NaN   \n",
      "9252  102955.0        10.0         2.0         2.0        14.0         NaN   \n",
      "9253  102956.0        10.0         2.0         1.0        38.0         NaN   \n",
      "\n",
      "      RIDRETH1_x  RIDRETH3_x  RIDEXMON_x  RIDEXAGM_x  ...    WTSAF2YR_x  \\\n",
      "0            5.0         6.0         2.0        27.0  ...           NaN   \n",
      "1            3.0         3.0         1.0        33.0  ...           NaN   \n",
      "2            4.0         4.0         2.0         NaN  ...           NaN   \n",
      "3            5.0         6.0         2.0       222.0  ...           NaN   \n",
      "4            5.0         7.0         2.0       158.0  ...           NaN   \n",
      "...          ...         ...         ...         ...  ...           ...   \n",
      "9249         5.0         6.0         2.0         NaN  ...  32733.048593   \n",
      "9250         1.0         1.0         2.0         NaN  ...           NaN   \n",
      "9251         4.0         4.0         1.0         NaN  ...  50637.453793   \n",
      "9252         4.0         4.0         2.0       175.0  ...           NaN   \n",
      "9253         3.0         3.0         2.0         NaN  ...  92330.242983   \n",
      "\n",
      "      LBXGLU  LBDGLUSI    WTSAF2YR_y   LBXIN  LBDINSI       LBDINLC  LBDHDD  \\\n",
      "0        NaN       NaN           NaN     NaN      NaN           NaN     NaN   \n",
      "1        NaN       NaN           NaN     NaN      NaN           NaN     NaN   \n",
      "2        NaN       NaN           NaN     NaN      NaN           NaN    60.0   \n",
      "3        NaN       NaN           NaN     NaN      NaN           NaN    47.0   \n",
      "4        NaN       NaN           NaN     NaN      NaN           NaN    68.0   \n",
      "...      ...       ...           ...     ...      ...           ...     ...   \n",
      "9249   158.0      8.77  32733.048593    4.39    26.34  5.397605e-79    60.0   \n",
      "9250     NaN       NaN           NaN     NaN      NaN           NaN    49.0   \n",
      "9251    94.0      5.22  50637.453793    9.49    56.94  5.397605e-79    54.0   \n",
      "9252     NaN       NaN           NaN     NaN      NaN           NaN    34.0   \n",
      "9253    91.0      5.05  92330.242983  105.73   634.38  5.397605e-79    34.0   \n",
      "\n",
      "      LBDHDDSI  LBXGH  \n",
      "0          NaN    NaN  \n",
      "1          NaN    NaN  \n",
      "2         1.55    6.2  \n",
      "3         1.22    5.2  \n",
      "4         1.76    5.6  \n",
      "...        ...    ...  \n",
      "9249      1.55    7.4  \n",
      "9250      1.27    5.9  \n",
      "9251      1.40    5.2  \n",
      "9252      0.88    5.5  \n",
      "9253      0.88    5.4  \n",
      "\n",
      "[9254 rows x 187 columns]\n"
     ]
    }
   ],
   "source": [
    "main()\n",
    "#test()"
   ]
  },
  {
   "cell_type": "code",
   "execution_count": null,
   "id": "17eb9952",
   "metadata": {},
   "outputs": [],
   "source": []
  }
 ],
 "metadata": {
  "kernelspec": {
   "display_name": "Python 3 (ipykernel)",
   "language": "python",
   "name": "python3"
  },
  "language_info": {
   "codemirror_mode": {
    "name": "ipython",
    "version": 3
   },
   "file_extension": ".py",
   "mimetype": "text/x-python",
   "name": "python",
   "nbconvert_exporter": "python",
   "pygments_lexer": "ipython3",
   "version": "3.9.10"
  }
 },
 "nbformat": 4,
 "nbformat_minor": 5
}
