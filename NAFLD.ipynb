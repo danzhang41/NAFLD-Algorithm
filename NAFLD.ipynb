{
 "cells": [
  {
   "cell_type": "markdown",
   "id": "ee29f12d",
   "metadata": {},
   "source": [
    "Setup and Imports"
   ]
  },
  {
   "cell_type": "code",
   "execution_count": 10,
   "id": "39b0f656",
   "metadata": {},
   "outputs": [],
   "source": [
    "# Efficient math and data management\n",
    "import numpy as np\n",
    "import pandas as pd\n",
    "\n",
    "# You may import useful modules and functions from the Python Standard Library.\n",
    "from dateutil.parser import isoparse  # Useful for parsing YYYYMMDD integers into date objects\n",
    "\n",
    "# You may import useful modules and functions from the Python Standard Library.\n",
    "import os\n",
    "from functools import reduce  \n",
    "\n",
    "# Visualization libraries\n",
    "import matplotlib\n",
    "import matplotlib.pyplot as plt\n",
    "import seaborn as sns\n",
    "\n",
    "# Inline figures. Can swap comments to use interactive figures. Use inline figures for assignment submission.\n",
    "%matplotlib inline\n",
    "# %matplotlib notebook\n",
    "\n",
    "# Set seaborn visual style\n",
    "sns.set()\n",
    "sns.set_context('talk')\n",
    "plt.rcParams[\"patch.force_edgecolor\"] = False  # Turn off histogram borders"
   ]
  },
  {
   "cell_type": "code",
   "execution_count": 14,
   "id": "0b160f03",
   "metadata": {},
   "outputs": [],
   "source": [
    "demographic_data = pd.read_sas('NAFLD/DEMO_J.XPT', format='xport', encoding='utf-8')\n",
    "alchohol_data = pd.read_sas('NAFLD/ALQ_J.XPT', format='xport', encoding='utf-8')\n",
    "liver_ultrasound_data = pd.read_sas('NAFLD/LUX_J.XPT', format='xport', encoding='utf-8')\n",
    "hepatitis_data = pd.read_sas('NAFLD/HEQ_J.XPT', format='xport', encoding='utf-8')\n",
    "#GGT (LBXSGTSI)\n",
    "biochemistry_data = pd.read_sas('NAFLD/BIOPRO_J.XPT', format='xport', encoding='utf-8')\n",
    "#waist circumference (BMXWAIST)\n",
    "body_measure_data = pd.read_sas('NAFLD/BMX_J.XPT', format='xport', encoding='utf-8')\n",
    "#fasting glucose (LBXGLU),\n",
    "fasting_glucose_data = pd.read_sas('NAFLD/GLU_J.XPT', format='xport', encoding='utf-8')\n",
    "#and insulin (LBXIN).\n",
    "insulin_data = pd.read_sas('NAFLD/INS_J.XPT', format='xport', encoding='utf-8')\n",
    "#HDL cholesterol (mg/dL)(LBDHDD),HDL_J)\n",
    "cholesterol_data = pd.read_sas('NAFLD/HDL_J.XPT', format='xport', encoding='utf-8'),\n",
    "#HbA1c levels (≥ 8%) indicating uncontrolled diabetes (LBXGH)\n",
    "diabetes_data = pd.read_sas('NAFLD/GHB_J.XPT', format='xport', encoding='utf-8')\n",
    "#Physical Activity (P_PAQ), nutritional data (P_DBQ) this one is hard idk what to consider\n",
    "\n",
    "#ALQ130 in ALQ_J\n",
    "#LUXSMED and LUXSCAP in LUX_J\n",
    "#RIAGENDR, RIDRETH3, income (INDFMPIR) in DEMO_J\n",
    "#hepatitis for HEQ010 and HEQ030 for Hepatitis B and C\n",
    "#GGT (LBXSGTSI), #Albumin (LBDSALSI) in biochemistry \n",
    "#, waist circumference (BMXWAIST)), #BMI (BMXBMI) in body measures\n",
    "# fasting glucose (LBXGLU), and insulin (LBXIN).\n",
    "#HDL cholesterol (mg/dL)(LBDHDD),\n",
    "#Albumin (LBDSALSI),\n",
    "#HbA1c levels (≥ 8%) indicating uncontrolled diabetes (LBXGH)\n",
    "#BMI (BMXBMI), income (INDFMPIR)\n",
    "#these ones harder: Physical Activity (P_PAQ) and nutritional data (P_DBQ)"
   ]
  },
  {
   "cell_type": "code",
   "execution_count": 18,
   "id": "5b7dccaa",
   "metadata": {},
   "outputs": [
    {
     "name": "stdout",
     "output_type": "stream",
     "text": [
      "      SEQN  SDDSRVYR  RIDSTATR  RIAGENDR  RIDAGEYR  RIDAGEMN  RIDRETH1  \\\n",
      "0  93703.0      10.0       2.0       2.0       2.0       NaN       5.0   \n",
      "1  93704.0      10.0       2.0       1.0       2.0       NaN       3.0   \n",
      "\n",
      "   RIDRETH3  RIDEXMON  RIDEXAGM  ...  DMDHREDZ  DMDHRMAZ  DMDHSEDZ  \\\n",
      "0       6.0       2.0      27.0  ...       3.0       1.0       3.0   \n",
      "1       3.0       1.0      33.0  ...       3.0       1.0       2.0   \n",
      "\n",
      "       WTINT2YR      WTMEC2YR  SDMVPSU  SDMVSTRA  INDHHIN2  INDFMIN2  INDFMPIR  \n",
      "0   9246.491865   8539.731348      2.0     145.0      15.0      15.0       5.0  \n",
      "1  37338.768343  42566.614750      1.0     143.0      15.0      15.0       5.0  \n",
      "\n",
      "[2 rows x 46 columns]\n",
      "9254\n",
      "5856\n"
     ]
    }
   ],
   "source": [
    "print(demographic_data.head(2))\n",
    "# RIDAGEYR= age in years\n",
    "subsetData = demographic_data[demographic_data[\"RIDAGEYR\"] >=18.0]\n",
    "print(len(demographic_data))\n",
    "print(len(subsetData))\n",
    "\n"
   ]
  },
  {
   "cell_type": "code",
   "execution_count": null,
   "id": "17eb9952",
   "metadata": {},
   "outputs": [],
   "source": []
  }
 ],
 "metadata": {
  "kernelspec": {
   "display_name": "Python 3 (ipykernel)",
   "language": "python",
   "name": "python3"
  },
  "language_info": {
   "codemirror_mode": {
    "name": "ipython",
    "version": 3
   },
   "file_extension": ".py",
   "mimetype": "text/x-python",
   "name": "python",
   "nbconvert_exporter": "python",
   "pygments_lexer": "ipython3",
   "version": "3.9.10"
  }
 },
 "nbformat": 4,
 "nbformat_minor": 5
}
